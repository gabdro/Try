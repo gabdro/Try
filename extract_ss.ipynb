{
 "cells": [
  {
   "cell_type": "code",
   "execution_count": 344,
   "metadata": {
    "collapsed": true
   },
   "outputs": [],
   "source": [
    "import scrapy"
   ]
  },
  {
   "cell_type": "code",
   "execution_count": 542,
   "metadata": {},
   "outputs": [],
   "source": [
    "from bs4 import BeautifulSoup\n",
    "import urllib.request as req\n",
    "import re,sys,time,datetime"
   ]
  },
  {
   "cell_type": "markdown",
   "metadata": {},
   "source": [
    "# はじめに...\n",
    "SSのまとめサイトから  \n",
    "\n",
    "```html\n",
    "ゆの「あはは・・・」 \n",
    "\n",
    "ﾀﾞｯﾀﾞｯﾀﾞｯ ｶﾞﾁｬｯ \n",
    "\n",
    "大家「・・・おじゃまします・・・」ｾﾞｪｾﾞｪ \n",
    "\n",
    "なずな「あ、大家さん♡こんにちは！」 \n",
    "```\n",
    "からキャラとそのキャラのセリフを抽出して以下のようなjson形式で保存する関数を作成しました.  \n",
    "```json\n",
    "{　　\n",
    "character:ゆの　　\n",
    "speech:あはは・・・　　\n",
    "}　　\n",
    "{　　\n",
    "character:大家　　\n",
    "speech:・・・おじゃまします・・・　　\n",
    "}　　\n",
    "...\n",
    "```\n",
    "\n",
    "\n",
    "タグの都合上, 現在は限られたサイトでしか正常に作動しません.  \n",
    "そのため, 次回作成する際は scrapy を用いて作ってみたいと思ってます♩  \n",
    "\n",
    "\n",
    "### 作成経緯\n",
    "日本語の会話データセットで無料配布されているものってほとんどないんですよね.  \n",
    "英語ではいくつかあるのに  \n",
    "  \n",
    "そして, TwitterなどのSNSサイトのリプライを会話のデータセットとして使う場合は不自然な日本語で会話しているため, 会話として成立していない例を多く含むと感じてます.  \n",
    "そのため, 今回は物語それも会話劇の抽出をやってみました.  \n",
    "  \n",
    "この手法は今回のようなSS以外にも\"なろう\"の文章をダウンロードしてセリフ抽出というのも有効だと思います.  \n",
    "ただし, 一般小説やなろうのように背景や説明が多くてセリフのみだと話者が誰か不明だったり, 話の流れが不明な場合が多いのが難点かなと思います.  "
   ]
  },
  {
   "cell_type": "code",
   "execution_count": 579,
   "metadata": {
    "collapsed": true
   },
   "outputs": [],
   "source": [
    "urlName = \"http://yomicom.jp/blog-entry-1095.html\""
   ]
  },
  {
   "cell_type": "code",
   "execution_count": 580,
   "metadata": {},
   "outputs": [
    {
     "name": "stdout",
     "output_type": "stream",
     "text": [
      "################END###################\n"
     ]
    }
   ],
   "source": [
    "created_name = str(datetime.datetime.now().timestamp()).split(\".\")[0]\n",
    "#urlName = \"http://yomicom.jp/blog-entry-1370.html\"\n",
    "#urlName = \"http://yomicom.jp/blog-entry-1372.html\"\n",
    "#op = getURL_title(urlName)\n",
    "#output_file = op+\".json\"\n",
    "output_file = created_name+\".json\"\n",
    "content , tmpName = web_convert_Text(urlName)\n",
    "extract_chat(tmpName,output_file)\n",
    "print(\"################END###################\")"
   ]
  },
  {
   "cell_type": "code",
   "execution_count": 346,
   "metadata": {
    "collapsed": true
   },
   "outputs": [],
   "source": [
    "def getURL(url):\n",
    "    res = req.urlopen(url)\n",
    "    return BeautifulSoup(res,\"html.parser\")"
   ]
  },
  {
   "cell_type": "code",
   "execution_count": 520,
   "metadata": {},
   "outputs": [],
   "source": [
    "def getURL_title(url):\n",
    "    src=getURL(url)\n",
    "    title = src.select(\"div.ently_outline > h2.ently_title > a \")\n",
    "    #re.search('title=\"(.*)\"',title)\n",
    "    title_pattern = \">(.*)</a>\"\n",
    "    title = str(title).replace(\"\\n\",\"\")\n",
    "    title = title.replace(\"\\r\",\"\")\n",
    "    return re.findall(title_pattern,title,re.S)[0]"
   ]
  },
  {
   "cell_type": "code",
   "execution_count": 528,
   "metadata": {},
   "outputs": [],
   "source": [
    "def web_convert_Text(urlName):    \n",
    "    #urlName = \"http://yomicom.jp/blog-entry-1372.html\"\n",
    "    #urlName = \"http://yomicom.jp/blog-entry-1364.html\"\n",
    "\n",
    "    src = getURL(urlName)\n",
    "\n",
    "    #出力するファイルはまとめサイトのタイトルにしました.\n",
    "    op = getURL_title(urlName)\n",
    "    output_file = op+\"json\"\n",
    "    #整形して一時的に保存するテキストファイル\n",
    "    tmp_file = op+\".txt\"\n",
    "\n",
    "\n",
    "    text = src.select(\"div.ently_text > div.t_b\")\n",
    "    #div内のみ得る正規表現\n",
    "    pat=\"<div class=\\\"t_b\\\">(.*)</div>\"\n",
    "    div_content = re.compile(pat,re.S)\n",
    "    matome_list = []\n",
    "    for line in text:\n",
    "        #文字列に変換\n",
    "        test = str(line)\n",
    "        #<br/>を\\nに変換\n",
    "        test = test.replace(\"<br/>\",\"\\n\")\n",
    "        #print(test)\n",
    "        test=div_content.findall(test)\n",
    "        test.append(\"\\n\")\n",
    "        matome_list.append(test)\n",
    "    #リストを下げる\n",
    "    flatten = lambda l: [item for sublist in l for item in sublist]\n",
    "\n",
    "\n",
    "    res = flatten(matome_list)\n",
    "    #まとめサイトのメインコンテンツをテキストで保存\n",
    "    f = open(tmp_file,\"w\")\n",
    "    for line in res:\n",
    "        f.write(line)\n",
    "    f.close()\n",
    "    return res,tmp_file"
   ]
  },
  {
   "cell_type": "code",
   "execution_count": 574,
   "metadata": {
    "collapsed": true
   },
   "outputs": [],
   "source": [
    "import re\n",
    "import json\n",
    "\n",
    "#引数: ファイル\n",
    "def extract_chat(input_file,output_file):\n",
    "    #pattern\n",
    "    chat_pattern = r\"「(.+?)」\"\n",
    "    speaker_pattern = \"(.*)(?=「)\"\n",
    "    \n",
    "    #ファイルを読む, \n",
    "    with open(input_file) as f:\n",
    "        text = f.read()\n",
    "    #出力ファイル(json)\n",
    "    output = open(output_file,'w')\n",
    "    #「」会話終わりに強制的に改行を加える.  \n",
    "    #text = text.replace(\"」\",\"」\\n\")\n",
    "    #print(text)\n",
    "    text = re.sub(r\"」(.+?)\",\"」\\n\",text)\n",
    "    #print(\"MEL\",text)\n",
    "    #print(text)\n",
    "    #regexp\n",
    "    character = re.compile(speaker_pattern).findall(text)\n",
    "    speech = re.compile(chat_pattern,re.S).findall(text)\n",
    "    \n",
    "    #リスト二含まれている\"\"を削除\n",
    "    character_ = [c for c in character if c is not \"\"]\n",
    "    #改行文字を削除\n",
    "    speech_ = [test.replace(\"\\n\",\"\") for test in speech]\n",
    "    #print(character_)\n",
    "    \n",
    "    #x 返すキャラとそのセリフを辞書に格納\n",
    "    #o jsonを返す\n",
    "    c_s = []\n",
    "    num=0\n",
    "    for i,j in zip(character_,speech_):\n",
    "        #print(num,i,j)\n",
    "        #c_s.update({num:{\"character\":i,\"speech\":j}})\n",
    "        c_s.append({\"id\":num,\"character\":i,\"speech\":j})\n",
    "        #c_s[\"character\"] = i\n",
    "        #c_s[\"speech\"] = j\n",
    "        #print(num,i,j)\n",
    "        num += 1\n",
    "        #print(c_s)\n",
    "    json.dump(c_s,output,ensure_ascii=False,indent = 4,separators=(\",\",\": \"))\n",
    "    return c_s\n",
    "    #json.dump(c_s,output,ensure_ascii=False,indent = 4,separators=(\",\",\": \")) "
   ]
  },
  {
   "cell_type": "markdown",
   "metadata": {},
   "source": [
    "## ファイル読み込み\n",
    "自分用"
   ]
  },
  {
   "cell_type": "code",
   "execution_count": 570,
   "metadata": {},
   "outputs": [
    {
     "name": "stdout",
     "output_type": "stream",
     "text": [
      "ガヴ 「明日は私の誕生日……」\n",
      "ガヴ 「……眠れない」\n",
      "ガヴ 「ネトゲ……はやめとくか」\n",
      "ガヴ 「……とりあえず目を休めよう」\n",
      "ガヴ 「……そうしよう」\n",
      "ガヴ 「……結局一睡も出来なかった」\n",
      "ガヴ 「まあでも……楽しみだな」\n",
      "ガヴ 「……！はやいな！」\n",
      "男 「お届け物でーす」\n",
      "ガヴ 「……だよな」\n",
      "男 「？」\n",
      "ガヴ 「……まぁまだ朝だしな」\n",
      "ガヴ 「……昼か、まあカップラーメンでいいか」\n",
      "ガヴ 「……もうそろそろ日が沈むぞ」\n",
      "ガヴ 「……」\n",
      "ガヴ 「……！！！」\n",
      "ガヴ 「はっ、はい！」\n",
      "オバサン 「あっ、こんにちは。宗教に興味はないですか？今なら絶対に幸せに」\n",
      "ガヴ 「……はぁ、すいません私の存在が宗教ですので」\n",
      "オバサン 「……は？」\n",
      "ガヴ 「……遅い」\n",
      "ガヴ 「……もう来ないのかな」\n",
      "ガヴ 「……そうだよな、こんな駄天使の誕生日なんて誰が祝……」\n",
      "ガヴ 「……」\n",
      "ガヴ 「……もしかして」\n",
      " 「なーはっはっは！！！」\n",
      "ガヴ 「……！！！」\n",
      " 「大悪魔様がきてあげたわよ！」\n",
      "ガヴ 「はっ、はい！」\n",
      "サタラフィヴィーネ 「Happy Birthday！」\n",
      "ヴィーネ 「ガヴ、お誕生日おめでとう！」\n",
      "ガヴ 「……あ、そうか！今日私の誕生日か！忘れてたわ～」\n",
      "サターニャ 「ふふっ、昨日夜楽しみで寝られなかったの知ってんだからね」\n",
      "ガヴ 「なっ、そんなことは」\n",
      "ラフィ 「うふふ～」\n",
      "ガヴ 「なっ……！もしかしておまえ千里眼で！」\n",
      "ヴィーネ 「……とりあえずおめでとう！」\n",
      "ガヴ 「……ありがとう」\n",
      "サターニャ 「……素直じゃないわねガヴリールは」\n",
      "ガヴ 「なっなんだと！」\n",
      "サターニャ 「なによー」\n",
      "ラフィ 「まぁまぁ」\n",
      "ガヴ 「……と、とりあえずお前達も感謝してやる！」\n",
      "ヴィーネ 「ふふっ、サターニャみたいになってるわよガヴ」\n",
      "ガヴサタ 「なっ……」\n",
      "サターニャ 「……まぁいいわ、とりあえずケーキ！ケーキよ！」\n",
      "ガヴ 「……でかいな」\n",
      "ヴィーネ 「サターニャが作ったのよ」\n",
      "ガヴ 「えっ！」\n",
      "ラフィ 「『私が作ってあげるの！』って言い出したら聞かなくって大変だったんですよ」\n",
      "サターニャ 「ちょ、ちょっと！それは言わないって約束でしょ！？」\n",
      "ラフィ 「あら、ごめんなさい♪」\n",
      "ガヴ 「……ありがとうサターニャ。悪かったな」\n",
      "サターニャ 「べっ、別にいいわよ！ほらっ、味わって食べなさい！」\n",
      "ガヴ 「うん……」\n",
      "ガヴ 「……うぅ」\n",
      "ヴィーネ 「ガヴったら……泣くほど嬉しいのね」\n",
      "ラフィ 「あらあら」\n",
      "ガヴ 「サターニャ、おまえこれ……」\n",
      "サターニャ 「うぇぇ、なくほど！？そんなに美味しかったのかしら？」\n",
      "ガヴ 「塩と砂糖間違えただろ……」\n",
      "ガヴ 「まずい……まずいよ……」\n",
      "サターニャ 「えっ、ごめ……む、無理して食べなくてもいいのよ！？」\n",
      "ガヴ 「いや……いい、食べる……」\n",
      "ヴィーネ 「……ふふっ」\n"
     ]
    }
   ],
   "source": [
    "## ファイル読み込み\n",
    "gabdro = \"1492687139.json\"\n",
    "f = open(gabdro, 'r')\n",
    "result = json.load(f)\n",
    "for i in result:\n",
    "    print(i[\"character\"].replace(\" \",\"\"),\"「\"+i[\"speech\"]+\"」\")"
   ]
  },
  {
   "cell_type": "code",
   "execution_count": null,
   "metadata": {
    "collapsed": true
   },
   "outputs": [],
   "source": []
  }
 ],
 "metadata": {
  "kernelspec": {
   "display_name": "Python 3",
   "language": "python",
   "name": "python3"
  },
  "language_info": {
   "codemirror_mode": {
    "name": "ipython",
    "version": 3
   },
   "file_extension": ".py",
   "mimetype": "text/x-python",
   "name": "python",
   "nbconvert_exporter": "python",
   "pygments_lexer": "ipython3",
   "version": "3.6.0"
  }
 },
 "nbformat": 4,
 "nbformat_minor": 2
}
